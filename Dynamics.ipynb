{
 "cells": [
  {
   "cell_type": "code",
   "execution_count": 1,
   "metadata": {},
   "outputs": [],
   "source": [
    "import pandas as pd"
   ]
  },
  {
   "cell_type": "code",
   "execution_count": 2,
   "metadata": {},
   "outputs": [],
   "source": [
    "DATA_PATH = \"C:\\\\Users\\\\Alex Nash\\\\PycharmProjects\\\\Netology\\\\names\\\\\""
   ]
  },
  {
   "cell_type": "code",
   "execution_count": 3,
   "metadata": {},
   "outputs": [
    {
     "name": "stdout",
     "output_type": "stream",
     "text": [
      "Select a year:1900\n",
      "Select a year:1950\n",
      "Select a year:2000\n",
      "Select a year:q\n"
     ]
    }
   ],
   "source": [
    "years = list()\n",
    "while True:\n",
    "    console = input(\"Select a year:\")\n",
    "    if console.lower() == \"q\":\n",
    "        break\n",
    "    year = DATA_PATH + f\"yob{console}.txt\"\n",
    "    years.append(year)"
   ]
  },
  {
   "cell_type": "code",
   "execution_count": 4,
   "metadata": {},
   "outputs": [],
   "source": [
    "total_males = list()\n",
    "total_females = list()\n",
    "for year in years:\n",
    "    dataFrame = pd.read_csv(year, names=[\"Name\", \"Gender\", \"Count\"])\n",
    "    dataFrame = dataFrame.groupby(\"Gender\").sum()\n",
    "    males = dataFrame.query('Gender == \"M\"')\n",
    "    males_count = [count for count in males[\"Count\"]]\n",
    "    total_males.append(males_count)\n",
    "    females = dataFrame.query('Gender == \"F\"')\n",
    "    females_count = [count for count in females[\"Count\"]]\n",
    "    total_females.append(females_count)"
   ]
  },
  {
   "cell_type": "code",
   "execution_count": 5,
   "metadata": {},
   "outputs": [],
   "source": [
    "result = dict.fromkeys([\"F\", \"M\"])\n",
    "result[\"F\"] = total_females\n",
    "result[\"M\"] = total_males"
   ]
  },
  {
   "cell_type": "code",
   "execution_count": 6,
   "metadata": {},
   "outputs": [
    {
     "data": {
      "text/plain": [
       "{'F': [[299810], [1713259], [1814922]], 'M': [[150486], [1790871], [1962744]]}"
      ]
     },
     "execution_count": 6,
     "metadata": {},
     "output_type": "execute_result"
    }
   ],
   "source": [
    "result"
   ]
  }
 ],
 "metadata": {
  "kernelspec": {
   "display_name": "Python 3",
   "language": "python",
   "name": "python3"
  },
  "language_info": {
   "codemirror_mode": {
    "name": "ipython",
    "version": 3
   },
   "file_extension": ".py",
   "mimetype": "text/x-python",
   "name": "python",
   "nbconvert_exporter": "python",
   "pygments_lexer": "ipython3",
   "version": "3.6.4"
  }
 },
 "nbformat": 4,
 "nbformat_minor": 2
}
