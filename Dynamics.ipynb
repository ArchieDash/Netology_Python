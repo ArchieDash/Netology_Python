{
 "cells": [
  {
   "cell_type": "code",
   "execution_count": null,
   "metadata": {},
   "outputs": [],
   "source": [
    "import pandas as pd"
   ]
  },
  {
   "cell_type": "code",
   "execution_count": null,
   "metadata": {},
   "outputs": [],
   "source": [
    "DATA_PATH = \"C:\\\\Users\\\\Alex Nash\\\\PycharmProjects\\\\Netology\\\\names\\\\\""
   ]
  },
  {
   "cell_type": "code",
   "execution_count": null,
   "metadata": {},
   "outputs": [],
   "source": [
    "years = list()\n",
    "while True:\n",
    "    console = input(\"Select a year:\")\n",
    "    if console.lower() == \"q\":\n",
    "        break\n",
    "    year = os.path.join(PATH, f\"yob{console}.txt\")\n",
    "    years.append(year)"
   ]
  },
  {
   "cell_type": "code",
   "execution_count": null,
   "metadata": {},
   "outputs": [],
   "source": [
    "total_males = list()\n",
    "total_females = list()\n",
    "for year in years:\n",
    "    dataFrame = pd.read_csv(year, names=[\"Name\", \"Gender\", \"Count\"])\n",
    "    dataFrame = dataFrame.groupby(\"Gender\").sum()\n",
    "    males = dataFrame.query('Gender == \"M\"')\n",
    "    males_count = [count for count in males[\"Count\"]]\n",
    "    total_males.append(males_count)\n",
    "    females = dataFrame.query('Gender == \"F\"')\n",
    "    females_count = [count for count in females[\"Count\"]]\n",
    "    total_females.append(females_count)"
   ]
  },
  {
   "cell_type": "code",
   "execution_count": null,
   "metadata": {},
   "outputs": [],
   "source": [
    "result = dict.fromkeys([\"F\", \"M\"])\n",
    "result[\"F\"] = total_females\n",
    "result[\"M\"] = total_males"
   ]
  },
  {
   "cell_type": "code",
   "execution_count": null,
   "metadata": {},
   "outputs": [],
   "source": [
    "result"
   ]
  }
 ],
 "metadata": {
  "kernelspec": {
   "display_name": "Python 3",
   "language": "python",
   "name": "python3"
  }
 },
 "nbformat": 4,
 "nbformat_minor": 2
}
