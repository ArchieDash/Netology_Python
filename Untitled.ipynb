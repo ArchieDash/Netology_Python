{
 "cells": [
  {
   "cell_type": "code",
   "execution_count": 31,
   "metadata": {},
   "outputs": [],
   "source": [
    "import pandas as pd"
   ]
  },
  {
   "cell_type": "code",
   "execution_count": 32,
   "metadata": {},
   "outputs": [],
   "source": [
    "DATA_PATH = \"C:\\\\Users\\\\Alex Nash\\\\PycharmProjects\\\\Netology\\\\names\\\\\""
   ]
  },
  {
   "cell_type": "code",
   "execution_count": 33,
   "metadata": {},
   "outputs": [
    {
     "name": "stdout",
     "output_type": "stream",
     "text": [
      "Select a year:2010\n",
      "Select a year:1988\n",
      "Select a year:1947\n",
      "Select a year:q\n"
     ]
    }
   ],
   "source": [
    "years = list()\n",
    "while True:\n",
    "    console = input(\"Select a year:\")\n",
    "    if console.lower() == \"q\":\n",
    "        break\n",
    "    year = DATA_PATH + f\"yob{console}.txt\"\n",
    "    years.append(year)"
   ]
  },
  {
   "cell_type": "code",
   "execution_count": 34,
   "metadata": {},
   "outputs": [],
   "source": [
    "data = list()\n",
    "for year in years:\n",
    "    dataFrame = pd.read_csv(year, names=[\"Name\", \"Gender\", \"Count\"])\n",
    "    data.append(dataFrame)"
   ]
  },
  {
   "cell_type": "code",
   "execution_count": 35,
   "metadata": {},
   "outputs": [],
   "source": [
    "total = (pd.concat(data))"
   ]
  },
  {
   "cell_type": "code",
   "execution_count": 36,
   "metadata": {},
   "outputs": [
    {
     "data": {
      "text/plain": [
       "['Isabella', 'Sophia', 'Emma']"
      ]
     },
     "execution_count": 36,
     "metadata": {},
     "output_type": "execute_result"
    }
   ],
   "source": [
    "[name for name in total.head(3)[\"Name\"]]"
   ]
  }
 ],
 "metadata": {
  "kernelspec": {
   "display_name": "Python 3",
   "language": "python",
   "name": "python3"
  },
  "language_info": {
   "codemirror_mode": {
    "name": "ipython",
    "version": 3
   },
   "file_extension": ".py",
   "mimetype": "text/x-python",
   "name": "python",
   "nbconvert_exporter": "python",
   "pygments_lexer": "ipython3",
   "version": "3.6.4"
  }
 },
 "nbformat": 4,
 "nbformat_minor": 2
}
